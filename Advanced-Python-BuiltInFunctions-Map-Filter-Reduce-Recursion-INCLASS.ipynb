{
 "cells": [
  {
   "cell_type": "markdown",
   "metadata": {},
   "source": [
    "# Map, Filter, Reduce, Lambda & Recursion"
   ]
  },
  {
   "cell_type": "markdown",
   "metadata": {},
   "source": [
    "## Tasks Today:\n",
    "\n",
    "1) <b>Lambda Functions</b> <br>\n",
    " &nbsp;&nbsp;&nbsp;&nbsp; a) Syntax <br>\n",
    " &nbsp;&nbsp;&nbsp;&nbsp; b) Saving to a Variable <br>\n",
    " &nbsp;&nbsp;&nbsp;&nbsp; c) Multiple Inputs <br>\n",
    " &nbsp;&nbsp;&nbsp;&nbsp; d) Passing a Lambda into a Function <br>\n",
    " &nbsp;&nbsp;&nbsp;&nbsp; e) Returning a Lambda from a Function <br>\n",
    " &nbsp;&nbsp;&nbsp;&nbsp; f) In-Class Exercise #1 <br>\n",
    "2) <b>Map</b> <br>\n",
    " &nbsp;&nbsp;&nbsp;&nbsp; a) Syntax <br>\n",
    " &nbsp;&nbsp;&nbsp;&nbsp; b) Using Lambda's with Map <br>\n",
    " &nbsp;&nbsp;&nbsp;&nbsp; c) In-Class Exercise #2 <br>\n",
    "3) <b>Filter</b> <br>\n",
    " &nbsp;&nbsp;&nbsp;&nbsp; a) Syntax <br>\n",
    " &nbsp;&nbsp;&nbsp;&nbsp; b) Using Lambda's with Filter <br>\n",
    " &nbsp;&nbsp;&nbsp;&nbsp; c) In-Class Exercise #3 <br>\n",
    "4) <b>Reduce</b> <br>\n",
    " &nbsp;&nbsp;&nbsp;&nbsp; a) Syntax <br>\n",
    " &nbsp;&nbsp;&nbsp;&nbsp; b) Using Lambda's with Reduce <br>\n",
    " &nbsp;&nbsp;&nbsp;&nbsp; c) In-Class Exercise #4 <br>\n",
    "5) <b>Recursion</b> <br>\n",
    " &nbsp;&nbsp;&nbsp;&nbsp; a) Implementing a Base <br>\n",
    " &nbsp;&nbsp;&nbsp;&nbsp; b) Writing a Factorial Function <br>\n",
    " &nbsp;&nbsp;&nbsp;&nbsp; c) In-Class Exercise #5 <br>\n",
    "6) <b>Generators & Iterators</b> <br>\n",
    " &nbsp;&nbsp;&nbsp;&nbsp; a) Yield Keyword <br>\n",
    " &nbsp;&nbsp;&nbsp;&nbsp; b) Inifinite Generator <br>\n",
    " &nbsp;&nbsp;&nbsp;&nbsp; c) In-Class Exercise #6 <br>\n",
    "7) <b>Exercises</b> <br>\n",
    " &nbsp;&nbsp;&nbsp;&nbsp; a) Exercise #1 - Filtering Empty Strings <br>\n",
    " &nbsp;&nbsp;&nbsp;&nbsp; b) Exercise #2 - Sorting with Last Name <br>\n",
    " &nbsp;&nbsp;&nbsp;&nbsp; c) Exercise #3 - Conversion to Farhenheit <br>\n",
    " &nbsp;&nbsp;&nbsp;&nbsp; d) Exercise #4 - Fibonacci Sequence <br>"
   ]
  },
  {
   "cell_type": "markdown",
   "metadata": {},
   "source": [
    "## Lambda Functions <br>\n",
    "<p>Lambda functions... or \"Anonymous Functions\" are referring to inline functions with no name. The keyword lambda denotes the no name function, and executes within a single line. Without saving it to a variable; however, it is not able to be used, unless passed in either as a paramater or within list comprehension.<br>Written as \"(keyword lambda) (one or more inputs) (colon) (function to be executed)\"</p>"
   ]
  },
  {
   "cell_type": "markdown",
   "metadata": {},
   "source": [
    "#### Syntax"
   ]
  },
  {
   "cell_type": "code",
   "execution_count": 1,
   "metadata": {},
   "outputs": [
    {
     "data": {
      "text/plain": [
       "7"
      ]
     },
     "execution_count": 1,
     "metadata": {},
     "output_type": "execute_result"
    }
   ],
   "source": [
    "# (lambda parameter/s: function)(argument)\n",
    "\n",
    "(lambda num:num + 2)(5)\n",
    "\n",
    "#  5 is the argument or the parameter\n",
    "\n",
    "# cannot call this again at a later time so place it in parenthesis\n",
    "\n",
    "\n"
   ]
  },
  {
   "cell_type": "markdown",
   "metadata": {},
   "source": [
    "#### Saving to a Variable"
   ]
  },
  {
   "cell_type": "code",
   "execution_count": null,
   "metadata": {},
   "outputs": [],
   "source": [
    "add_nums = lambda num1, num2: num1 + num2\n",
    "\n",
    "add_nums(4,5)"
   ]
  },
  {
   "cell_type": "markdown",
   "metadata": {},
   "source": [
    "#### Multiple Inputs"
   ]
  },
  {
   "cell_type": "code",
   "execution_count": 4,
   "metadata": {},
   "outputs": [
    {
     "data": {
      "text/plain": [
       "'foo bar'"
      ]
     },
     "execution_count": 4,
     "metadata": {},
     "output_type": "execute_result"
    }
   ],
   "source": [
    "(lambda string1, string2: f'{string1} {string2}')('foo', 'bar')"
   ]
  },
  {
   "cell_type": "markdown",
   "metadata": {},
   "source": [
    "#### Passing a Lambda into a Function"
   ]
  },
  {
   "cell_type": "code",
   "execution_count": 8,
   "metadata": {},
   "outputs": [
    {
     "data": {
      "text/plain": [
       "25"
      ]
     },
     "execution_count": 8,
     "metadata": {},
     "output_type": "execute_result"
    }
   ],
   "source": [
    "def math_operations(func, num):\n",
    "    return func(num)\n",
    "\n",
    "math_operations(lambda num: num * 2, 8) \n",
    "# lambda until the comma is the function and 8 is the argument\n",
    "\n",
    "math_operations(lambda num: num //2, 50)"
   ]
  },
  {
   "cell_type": "markdown",
   "metadata": {},
   "source": [
    "#### Returning a Lambda from a Function"
   ]
  },
  {
   "cell_type": "code",
   "execution_count": 11,
   "metadata": {},
   "outputs": [
    {
     "data": {
      "text/plain": [
       "'foo bar spam'"
      ]
     },
     "execution_count": 11,
     "metadata": {},
     "output_type": "execute_result"
    }
   ],
   "source": [
    "# scoping\n",
    "def outter_func(str1):\n",
    "        inner_func_var = 'foo'\n",
    "        \n",
    "        return lambda astring: f'{inner_func_var} {str1} {astring}'\n",
    "    \n",
    "addtofoobar = outter_func('bar')\n",
    "    \n",
    "addtofoobar('spam')"
   ]
  },
  {
   "cell_type": "markdown",
   "metadata": {},
   "source": [
    "#### If Statements within Lambdas"
   ]
  },
  {
   "cell_type": "code",
   "execution_count": 14,
   "metadata": {},
   "outputs": [
    {
     "data": {
      "text/plain": [
       "'buhay'"
      ]
     },
     "execution_count": 14,
     "metadata": {},
     "output_type": "execute_result"
    }
   ],
   "source": [
    "def foobar():\n",
    "    if True:\n",
    "        return True\n",
    "    else:\n",
    "        return False\n",
    "    \n",
    "upperVowel = lambda astring: astring.upper() if astring[0].lower() in 'aeiou' else astring\n",
    "\n",
    "upperVowel('octopus')\n",
    "\n",
    "upperVowel('buhay') # not applied because it is False"
   ]
  },
  {
   "cell_type": "markdown",
   "metadata": {},
   "source": [
    "#### In-Class Exercise #1 <br>\n",
    "<p>Write an anonymous function that cubes the arguments passed in and assign the anonymous function to a variable 'f'.</p>"
   ]
  },
  {
   "cell_type": "code",
   "execution_count": 15,
   "metadata": {},
   "outputs": [
    {
     "data": {
      "text/plain": [
       "625"
      ]
     },
     "execution_count": 15,
     "metadata": {},
     "output_type": "execute_result"
    }
   ],
   "source": [
    "#  syntax # (lambda parameter/s: function)(argument)\n",
    "# cube if it is even, square if odd\n",
    "\n",
    "(lambda f: f ** 3)(5)\n",
    "\n",
    "even_odd = lambda num: num ** 3 if num % 2 == 0 else num ** 2\n",
    "\n",
    "even_odd(25)"
   ]
  },
  {
   "cell_type": "markdown",
   "metadata": {},
   "source": [
    "## Map <br>\n",
    "<p>The map function allows you to iterate over an entire list while running a function on each item of the list. This is why the map function works well with lambda's, because it simplifies things and you write less lines of code.<br>The syntax for a map function is \"map(function to be used, list to be used)\"<br>However, you must be careful, as the map function returns a map object, not a list. To turn it into a list we use the list() type conversion.</p>"
   ]
  },
  {
   "cell_type": "markdown",
   "metadata": {},
   "source": [
    "#### Syntax"
   ]
  },
  {
   "cell_type": "code",
   "execution_count": 20,
   "metadata": {},
   "outputs": [
    {
     "data": {
      "text/plain": [
       "['POPO', 'MIMI']"
      ]
     },
     "execution_count": 20,
     "metadata": {},
     "output_type": "execute_result"
    }
   ],
   "source": [
    "# essentially a for loop but done by map builtin in python\n",
    "# any iterable while running a function on each item\n",
    "\n",
    "# syntax map(function to be used, iterable to be used)\n",
    "# returns as map so convert list()\n",
    "\n",
    "map(lambda astring: astring.upper(), ['bubu', 'iro', 'ppp']) # returns map object\n",
    "\n",
    "# return as a list\n",
    "list(map(lambda astring: astring.upper(), ['bubu', 'iro', 'ppp']))\n",
    "\n",
    "# function must receive an element, not entire list\n",
    "\n",
    "def capitalize_string(astring):\n",
    "    return astring.upper()\n",
    "\n",
    "list(map(capitalize_string, ['popo', 'mimi']))\n",
    "\n",
    "# OR YOU CAN BELOW\n",
    "\n",
    "[word for word in map(capitalize_string, ['popo', 'mimi'])]"
   ]
  },
  {
   "cell_type": "markdown",
   "metadata": {},
   "source": [
    "#### Using Lambda's with Map"
   ]
  },
  {
   "cell_type": "code",
   "execution_count": 22,
   "metadata": {},
   "outputs": [
    {
     "data": {
      "text/plain": [
       "[13, 14, 15, 16, 17]"
      ]
     },
     "execution_count": 22,
     "metadata": {},
     "output_type": "execute_result"
    }
   ],
   "source": [
    "nums_plus_ten = map( lambda num: num + 10, [3,4,5,6,7])\n",
    "\n",
    "# store mapping into a variable\n",
    "\n",
    "list(nums_plus_ten)"
   ]
  },
  {
   "cell_type": "markdown",
   "metadata": {},
   "source": [
    "#### In-Class Exercise #2 <br>\n",
    "<p>Use the map function to double each number and minus it by one in the list by using a lambda function</p>"
   ]
  },
  {
   "cell_type": "code",
   "execution_count": 24,
   "metadata": {},
   "outputs": [
    {
     "data": {
      "text/plain": [
       "[1, 3, 5, 7, 9]"
      ]
     },
     "execution_count": 24,
     "metadata": {},
     "output_type": "execute_result"
    }
   ],
   "source": [
    "dub_and_sub = map(lambda num: num * 2 - 1, [1,2,3,4,5])\n",
    "\n",
    "list(dub_and_sub)"
   ]
  },
  {
   "cell_type": "markdown",
   "metadata": {},
   "source": [
    "## Filter() <br>\n",
    "<p>Filter's are similar to the map function, where you're able to pass a function argument and a list argument and filter out something from the list based on the conditions passed. Similar to the map function, it returns a filter object, so you need to type convert it to a list()</p>"
   ]
  },
  {
   "cell_type": "markdown",
   "metadata": {},
   "source": [
    "#### Syntax"
   ]
  },
  {
   "cell_type": "code",
   "execution_count": null,
   "metadata": {},
   "outputs": [],
   "source": [
    "# similar to map but callback function is considered a boolean expression\n",
    "# returns filter object if true but if false it will filter it out\n",
    "# 0, None, empty [] {} are all False values\n",
    "\n",
    "# syntax - filter(lambda astring: True, [1,2,3,4,5])\n",
    "\n",
    "list(filter(lambda astring: True, [1,2,3,4,5]))\n"
   ]
  },
  {
   "cell_type": "markdown",
   "metadata": {},
   "source": [
    "#### Using Lambda's with Filter()"
   ]
  },
  {
   "cell_type": "code",
   "execution_count": 34,
   "metadata": {},
   "outputs": [
    {
     "data": {
      "text/plain": [
       "[10, 20, 90]"
      ]
     },
     "execution_count": 34,
     "metadata": {},
     "output_type": "execute_result"
    }
   ],
   "source": [
    "\n",
    "\n",
    "# filter out all odd nums\n",
    "\n",
    "list(filter(lambda num: True if num % 2 == 0 else False, [2,4,3,5,6,7]))\n",
    "\n",
    "list(filter(lambda num: num % 2 == 0, [2,4,3,5,6,7]))\n",
    "\n",
    "students = ['rob', 'tones', 'zoe', 'poi']\n",
    "\n",
    "# clarify what word for word represents\n",
    "[word for word in filter(lambda name: name[0].lower() != 'z', students)]\n",
    "\n",
    "def divisible_by_ten(num):\n",
    "    return num % 10 == 0\n",
    "\n",
    "# called by filter\n",
    "[num for num in filter( divisible_by_ten, [10, 32, 20, 88, 90])]"
   ]
  },
  {
   "cell_type": "markdown",
   "metadata": {},
   "source": [
    "#### In-Class Exercise #3 <br>\n",
    "<p>Filter out all the numbers that are below the mean of the list.<br><b>Hint: Import the 'statistics' module</b></p>"
   ]
  },
  {
   "cell_type": "code",
   "execution_count": 50,
   "metadata": {},
   "outputs": [
    {
     "name": "stdout",
     "output_type": "stream",
     "text": [
      "['f', 'o', 'o', ' ', 'b', 'a', 'r', ' ', 'f', 'i', 'z', 'z']\n"
     ]
    },
    {
     "data": {
      "text/plain": [
       "['f', 'o', 'o', ' ', 'b', 'a', 'r', ' ', 'f', 'i', 'z', 'z']"
      ]
     },
     "execution_count": 50,
     "metadata": {},
     "output_type": "execute_result"
    }
   ],
   "source": [
    "import statistics\n",
    "\n",
    "average = statistics.mean(nums_list)\n",
    "\n",
    "nums_list = [1,4,6,5,2]\n",
    "\n",
    "[num for num in filter(lambda n: n >= average, nums_list)]\n",
    "\n",
    "\n",
    "### add every char to string\n",
    "\n",
    "astring = 'foo bar fizz'\n",
    "letters = []\n",
    "\n",
    "for letter in astring:\n",
    "    letters.append(letter)\n",
    "    \n",
    "print(letters)\n",
    "\n",
    "# list comprehension\n",
    "# first 'letter' is the element that is appended before the for loop\n",
    "\n",
    "[letter for letter in astring]"
   ]
  },
  {
   "cell_type": "markdown",
   "metadata": {},
   "source": [
    "## Reduce() <br>\n",
    "<p>Be very careful when using this function, as of Python 3 it's been moved to the 'functools' library and no longer is a built-in function.<br>The creator of Python himself, says to just use a for loop instead.</p>"
   ]
  },
  {
   "cell_type": "markdown",
   "metadata": {},
   "source": [
    "#### Syntax"
   ]
  },
  {
   "cell_type": "code",
   "execution_count": 52,
   "metadata": {},
   "outputs": [
    {
     "data": {
      "text/plain": [
       "10"
      ]
     },
     "execution_count": 52,
     "metadata": {},
     "output_type": "execute_result"
    }
   ],
   "source": [
    "from functools import reduce\n",
    "\n",
    "sum([1,2,3,4])\n",
    "\n",
    "reduce( lambda agg, num: agg + num, [1,2,3,4] )"
   ]
  },
  {
   "cell_type": "markdown",
   "metadata": {},
   "source": [
    "#### Using Lambda's with Reduce()"
   ]
  },
  {
   "cell_type": "code",
   "execution_count": null,
   "metadata": {},
   "outputs": [],
   "source": []
  },
  {
   "cell_type": "markdown",
   "metadata": {},
   "source": [
    "#### In-Class Exercise #4 <br>\n",
    "<p>Use the reduce function to multiply the numbers in the list below together with a lambda function.</p>"
   ]
  },
  {
   "cell_type": "code",
   "execution_count": 53,
   "metadata": {},
   "outputs": [
    {
     "data": {
      "text/plain": [
       "24"
      ]
     },
     "execution_count": 53,
     "metadata": {},
     "output_type": "execute_result"
    }
   ],
   "source": [
    "from functools import reduce\n",
    "\n",
    "reduce( lambda agg, num: agg * num, [1,2,3,4] )"
   ]
  },
  {
   "cell_type": "markdown",
   "metadata": {},
   "source": [
    "## Recursion <br>\n",
    "<p>Recursion means that a function is calling itself, so it contanstly executes until a base case is reached. It will then push the returning values back up the chain until the function is complete. A prime example of recursion is computing factorials... such that 5! (factorial) is 5*4*3*2*1 which equals 120.</p>"
   ]
  },
  {
   "cell_type": "markdown",
   "metadata": {},
   "source": [
    "#### Implementing a Base Case"
   ]
  },
  {
   "cell_type": "code",
   "execution_count": 58,
   "metadata": {},
   "outputs": [
    {
     "name": "stdout",
     "output_type": "stream",
     "text": [
      "add_recurs(5) = 5 + add_recurs(4)\n",
      "add_recurs(4) = 4 + add_recurs(3)\n",
      "add_recurs(3) = 3 + add_recurs(2)\n",
      "add_recurs(2) = 2 + add_recurs(1)\n",
      "add_recurs(1) = 1 + add_recurs(0)\n"
     ]
    },
    {
     "data": {
      "text/plain": [
       "15"
      ]
     },
     "execution_count": 58,
     "metadata": {},
     "output_type": "execute_result"
    }
   ],
   "source": [
    "# function is calling itself - will continue to run until base case is reached (while loop)\n",
    "# strength: when working with NODE OBJECTS (linked lists, binary trees)\n",
    "\n",
    "def add_recursive(num):\n",
    "    # what is the base case/condition - recursion will quit once reached\n",
    "    if num == 0:\n",
    "        return num\n",
    "    print(f'add_recurs({num}) = {num} + add_recurs({num - 1})')\n",
    "    # below: 5 + 4, 4 + 3, 3 + 2...\n",
    "    return add_recursive(num - 1) + num\n",
    "\n",
    "add_recursive(5)"
   ]
  },
  {
   "cell_type": "markdown",
   "metadata": {},
   "source": [
    "#### Writing a Factorial Function"
   ]
  },
  {
   "cell_type": "code",
   "execution_count": 59,
   "metadata": {},
   "outputs": [
    {
     "data": {
      "text/plain": [
       "120"
      ]
     },
     "execution_count": 59,
     "metadata": {},
     "output_type": "execute_result"
    }
   ],
   "source": [
    "def find_factorial(num):\n",
    "    if num == 1:\n",
    "        return num\n",
    "    \n",
    "    return num * find_factorial(num - 1)\n",
    "\n",
    "find_factorial(5)"
   ]
  },
  {
   "cell_type": "markdown",
   "metadata": {},
   "source": [
    "#### In-Class Exercise #5 <br>\n",
    "<p>Write a recursive function that subtracts all numbers to the argument given.</p>"
   ]
  },
  {
   "cell_type": "code",
   "execution_count": 64,
   "metadata": {},
   "outputs": [
    {
     "data": {
      "text/plain": [
       "3"
      ]
     },
     "execution_count": 64,
     "metadata": {},
     "output_type": "execute_result"
    }
   ],
   "source": [
    "def subbed(num):\n",
    "    if num == 0:\n",
    "        return 0\n",
    "    \n",
    "    return num - subbed(num - 1) \n",
    "\n",
    "subbed(5)"
   ]
  },
  {
   "cell_type": "markdown",
   "metadata": {},
   "source": [
    "## Generators <br>\n",
    "<p>Generators are a type of iterable, like lists or tuples. They do not allow indexing, but they can still be iterated through with for loops. They are created using functions and the yield statement.</p>"
   ]
  },
  {
   "cell_type": "markdown",
   "metadata": {},
   "source": [
    "#### Yield Keyword <br>\n",
    "<p>The yield keyword denotes a generator, it doesn't return so it won't leave the function and reset all variables in the function scope, instead it yields the number back to the caller.</p>"
   ]
  },
  {
   "cell_type": "code",
   "execution_count": 70,
   "metadata": {},
   "outputs": [
    {
     "name": "stdout",
     "output_type": "stream",
     "text": [
      "<generator object range_generator at 0x106c26960>\n",
      "[1, 3, 5, 7, 9]\n",
      "[]\n",
      "[12, 14, 16, 18]\n"
     ]
    }
   ],
   "source": [
    "# another type of iterable\n",
    "# no indexing\n",
    "# for loops can use\n",
    "# returning a yield statement back to the caller\n",
    "# used during extremely large data sets\n",
    "\n",
    "# sytnax: \n",
    "\n",
    "def range_generator(start, stop, step):\n",
    "    current = start\n",
    "    while current < stop:\n",
    "        yield current\n",
    "        current += step\n",
    "        \n",
    "my_range = range_generator(1, 10, 2)\n",
    "\n",
    "print(my_range) # will output generator object\n",
    "\n",
    "\n",
    "# list comprehension\n",
    "print([num for num in my_range]) # these values will be used and once reused, the range will be empty\n",
    "print([num for num in my_range]) # this outputs empty list\n",
    "\n",
    "my_range2 = range_generator(0, 20, 2)\n",
    "next(my_range2) # 0\n",
    "next(my_range2) # 2\n",
    "next(my_range2) # 4\n",
    "next(my_range2) # 6\n",
    "next(my_range2) # 8\n",
    "next(my_range2) # 10\n",
    "\n",
    "print([num for num in my_range2])"
   ]
  },
  {
   "cell_type": "markdown",
   "metadata": {},
   "source": [
    "#### Infinite Generator"
   ]
  },
  {
   "cell_type": "code",
   "execution_count": null,
   "metadata": {},
   "outputs": [],
   "source": [
    "# bad, never create infinite loops"
   ]
  },
  {
   "cell_type": "markdown",
   "metadata": {},
   "source": [
    "#### In-Class Exercise #6 <br>\n",
    "<p>Create a generator that takes a number argument and yields that number squared, then prints each number squared until zero is reached.</p>"
   ]
  },
  {
   "cell_type": "code",
   "execution_count": 14,
   "metadata": {},
   "outputs": [
    {
     "name": "stdout",
     "output_type": "stream",
     "text": [
      "<generator object square_generator at 0x10c995080>\n",
      "[1, 576, 2209, 4900, 8649]\n"
     ]
    }
   ],
   "source": [
    "# create generator\n",
    "# parameter is number\n",
    "# yields number squared\n",
    "# print each number squared until 0\n",
    "\n",
    "# another type of iterable\n",
    "# no indexing\n",
    "# for loops can use\n",
    "# returning a yield statement back to the caller\n",
    "# yield is like return but does not terminate the function, allowing it to resume where it left off\n",
    "# used during extremely large data sets\n",
    "\n",
    "# syntax: \n",
    "\n",
    "def square_generator(start, stop, step):\n",
    "    while start < stop:\n",
    "        yield start ** 2\n",
    "        start += step\n",
    "        \n",
    "my_squared = square_generator(1, 100, 23)\n",
    "\n",
    "print(my_squared) # will output generator object\n",
    "print([num for num in my_squared])\n"
   ]
  },
  {
   "cell_type": "markdown",
   "metadata": {},
   "source": [
    "# Exercises"
   ]
  },
  {
   "cell_type": "markdown",
   "metadata": {},
   "source": [
    "### Exercise #1 <br>\n",
    "<p>Filter out all of the empty strings from the list below</p>\n",
    "\n",
    "`Output: ['Argentina', 'San Diego', 'Boston', 'New York']`"
   ]
  },
  {
   "cell_type": "code",
   "execution_count": 33,
   "metadata": {},
   "outputs": [
    {
     "data": {
      "text/plain": [
       "['Argentina', 'San Diego', 'Boston', 'New York']"
      ]
     },
     "execution_count": 33,
     "metadata": {},
     "output_type": "execute_result"
    }
   ],
   "source": [
    "# FILTER ' ' or ''\n",
    "# similar to map but callback function is considered a boolean expression\n",
    "# returns filter object if true but if false it will filter it out\n",
    "# 0, None, empty [] {} are all False values\n",
    "\n",
    "# syntax - \n",
    "\n",
    "# list(filter(lambda astring: True, [input]))\n",
    "\n",
    "# list comprehension: first 'word' is parameter followed by a for loop\n",
    "# [word for word in filter(lambda name: name[0].lower() != 'z', students)]\n",
    "\n",
    "# called by filter\n",
    "# [num for num in filter( divisible_by_ten, [10, 32, 20, 88, 90])]\n",
    "\n",
    "# def locs(place):\n",
    "#     for place in places:\n",
    "#         if place != None and place != \" \":\n",
    "#             return True\n",
    "        \n",
    "# [place for place in filter(locs, places)]\n",
    "\n",
    "places = [\" \",\"Argentina\", \" \", \"San Diego\",\"\",\"  \",\"\",\"Boston\",\"New York\"]\n",
    "\n",
    "[place for place in filter(lambda loc: True if loc != 0 and loc != \" \" and loc != \"\" and loc != \"  \" else False, places)]\n",
    "\n"
   ]
  },
  {
   "cell_type": "markdown",
   "metadata": {},
   "source": [
    "### Exercise #2 <br>\n",
    "<p>Write an anonymous function that sorts this list by the last name...<br><b>Hint: Use the \".sort()\" method and access the key\"</b></p>\n",
    "\n",
    "`Output: ['Victor aNisimov', 'Gary A.J. Bernstein', 'Joel Carter', 'Andrew P. Garfield', 'David hassELHOFF']`"
   ]
  },
  {
   "cell_type": "code",
   "execution_count": 4,
   "metadata": {},
   "outputs": [
    {
     "name": "stdout",
     "output_type": "stream",
     "text": [
      "['Victor aNisimov', 'Gary A.J. Bernstein', 'Joel Carter', 'Andrew P. Garfield', 'David hassELHOFF']\n"
     ]
    }
   ],
   "source": [
    "# LAMBDA / ACCESS KEY FIRST CHAR OF LAST NAME\n",
    "# sort using a key parameter\n",
    "# https://docs.python.org/3/howto/sorting.html\n",
    "\n",
    "author = [\"Joel Carter\", \"Victor aNisimov\", \"Andrew P. Garfield\",\"David hassELHOFF\",\"Gary A.J. Bernstein\"]\n",
    "\n",
    "# def switch(name):\n",
    "#     for name in author:\n",
    "#         name.split()[-1]\n",
    "\n",
    "def last_name(names):\n",
    "    names.sort(key = lambda name: name.lower().split()[-1])\n",
    "    return names\n",
    "\n",
    "print(last_name(author))"
   ]
  },
  {
   "cell_type": "markdown",
   "metadata": {},
   "source": [
    "### Exercise #3 <br>\n",
    "<p>Convert the list below from Celsius to Farhenheit, using the map function with a lambda...</p>\n",
    "\n",
    "`Output: [('Nashua', 89.6), ('Boston', 53.6), ('Los Angelos', 111.2), ('Miami', 84.2)]\n",
    "`"
   ]
  },
  {
   "cell_type": "code",
   "execution_count": 43,
   "metadata": {},
   "outputs": [
    {
     "name": "stdout",
     "output_type": "stream",
     "text": [
      "[('Nashua', 89.6), ('Boston', 53.6), ('Los Angelos', 111.2), ('Miami', 84.2)]\n"
     ]
    }
   ],
   "source": [
    "# essentially a for loop but done by map builtin in python\n",
    "# any iterable while running a function on each item\n",
    "\n",
    "# syntax map(function to be used, iterable to be used)\n",
    "# returns as map so convert list()\n",
    "\n",
    "# function must receive an element, not entire list\n",
    "\n",
    "# [word for word in map(capitalize_string, ['popo', 'mimi'])]\n",
    "\n",
    "# USE MAP FUNCTION WITH LAMBDA\n",
    "# tuples input and tuples output\n",
    "# for instance, access element 12 by: places[1][1]\n",
    "# F = (9/5)*C + 32\n",
    "\n",
    "places = [('Nashua',32),(\"Boston\",12),(\"Los Angelos\",44),(\"Miami\",29)]\n",
    "\n",
    "# syntax = map(lambda parameter: function, [argument]) # returns map object\n",
    "cels_to_farh = list(map(lambda weather: (9/5) * weather[1] + 32, places)) # outputs only converted temps; should include city name located at celsius[0]\n",
    "\n",
    "cels_to_farh = list(map(lambda weather: (weather[0], (9/5) * weather[1] + 32), places))\n",
    "\n",
    "# weather[0] indicates to print the original city name as is, followed by Farhenheit formula where C is replaced by weather[1]\n",
    "\n",
    "print(cels_to_farh)"
   ]
  },
  {
   "cell_type": "markdown",
   "metadata": {},
   "source": [
    "### Exercise #4 <br>\n",
    "<p>Write a recursion function to perform the fibonacci sequence up to the number passed in.</p>\n",
    "\n",
    "`Output for fib(5) => \n",
    "Iteration 0: 1\n",
    "Iteration 1: 1\n",
    "Iteration 2: 2\n",
    "Iteration 3: 3\n",
    "Iteration 4: 5\n",
    "Iteration 5: 8`"
   ]
  },
  {
   "cell_type": "code",
   "execution_count": 1,
   "metadata": {
    "scrolled": true
   },
   "outputs": [
    {
     "name": "stdout",
     "output_type": "stream",
     "text": [
      "0\n",
      "1\n",
      "1\n",
      "2\n",
      "3\n",
      "5\n",
      "8\n",
      "13\n",
      "21\n",
      "34\n",
      "55\n",
      "89\n"
     ]
    }
   ],
   "source": [
    "# function is calling itself - will continue to run until base case is reached (similar to while loop)\n",
    "# what is the base case/condition? - recursion will quit once reached\n",
    "# establish base case in conditional statement first to avoid infinite loop\n",
    "# what is fibonacci sequence? An increasing series where each number is the sum of the last two n that precede it. Usually starts from 0 and 1 \n",
    "# 0, 1, (0+1=1) 1, (1+1=2) 2, (1+2=3) 3, (2+3=5) 5, (5+3=8) 8, (5+8=13) 13, (8+13=21) 21, (13+21=34) 34, (21+34=55) 55, (34+55=89) 89, 144, ...\n",
    "# https://www.w3resource.com/python-exercises/lambda/index.php\n",
    "\n",
    "def fib_seq(n):\n",
    "    # establish base case where n is either 0 or 1 bc that's where the sequence usually starts unless negative values are prompted\n",
    "    if n <= 1: \n",
    "        return n \n",
    "    return fib_seq(n-1) + fib_seq(n-2) \n",
    "    # for ex: if n = 2, (2-1=1) + (2-2=0) = 1 bc each n is the sum total of the prior 2 n that precede it and we're starting at the end, not the beginning\n",
    "    \n",
    "for n in range(12): # to start from 0 because the default start is 0, range inserted is not inclusive so the 12th value won't be in range\n",
    "    print(fib_seq(n)) \n"
   ]
  }
 ],
 "metadata": {
  "kernelspec": {
   "display_name": "Python 3 (ipykernel)",
   "language": "python",
   "name": "python3"
  },
  "language_info": {
   "codemirror_mode": {
    "name": "ipython",
    "version": 3
   },
   "file_extension": ".py",
   "mimetype": "text/x-python",
   "name": "python",
   "nbconvert_exporter": "python",
   "pygments_lexer": "ipython3",
   "version": "3.12.1"
  }
 },
 "nbformat": 4,
 "nbformat_minor": 2
}
